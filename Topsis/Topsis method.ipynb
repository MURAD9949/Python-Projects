{
 "cells": [
  {
   "cell_type": "markdown",
   "metadata": {},
   "source": [
    "# Performance Analysis with Topsis Method"
   ]
  },
  {
   "cell_type": "code",
   "execution_count": 1,
   "metadata": {},
   "outputs": [],
   "source": [
    "import pandas as pd\n",
    "import numpy as np\n",
    "import seaborn as sns"
   ]
  },
  {
   "cell_type": "code",
   "execution_count": 2,
   "metadata": {},
   "outputs": [],
   "source": [
    "df = pd.DataFrame({'Companies':['AKSA','ALKIM','AYGAZ','BAGFS','BRISA','DEVA','GOODY','GUBRF','PETKM','SASA','SODA','TUPRS'],\n",
    "                   'ROA':[4.77,14.95,9.64,-3.26,2.82,5.92,5.68,-1.29,11.67,13.27,17.38,5.8],\n",
    "                   'Earnings per Share':[0.68,2.11,1.38,-0.83,0.26,0.3,0.17,-0.13,0.48,0.37,0.76,7.23],\n",
    "                   'ROE':[10.06,23.63,15.18,-7.75,14.05,11.76,10.09,-4.64,24.37,25.95,22.18,22.41],\n",
    "                   'Net Profit Margin':[6.43,17.41,6.16,-7.53,4.53,8.76,3.4,-1.55,16.14,11.58,29.08,5.2]})"
   ]
  },
  {
   "cell_type": "code",
   "execution_count": 3,
   "metadata": {},
   "outputs": [
    {
     "data": {
      "text/html": [
       "<div>\n",
       "<style scoped>\n",
       "    .dataframe tbody tr th:only-of-type {\n",
       "        vertical-align: middle;\n",
       "    }\n",
       "\n",
       "    .dataframe tbody tr th {\n",
       "        vertical-align: top;\n",
       "    }\n",
       "\n",
       "    .dataframe thead th {\n",
       "        text-align: right;\n",
       "    }\n",
       "</style>\n",
       "<table border=\"1\" class=\"dataframe\">\n",
       "  <thead>\n",
       "    <tr style=\"text-align: right;\">\n",
       "      <th></th>\n",
       "      <th>Companies</th>\n",
       "      <th>ROA</th>\n",
       "      <th>Earnings per Share</th>\n",
       "      <th>ROE</th>\n",
       "      <th>Net Profit Margin</th>\n",
       "    </tr>\n",
       "  </thead>\n",
       "  <tbody>\n",
       "    <tr>\n",
       "      <th>0</th>\n",
       "      <td>AKSA</td>\n",
       "      <td>4.77</td>\n",
       "      <td>0.68</td>\n",
       "      <td>10.06</td>\n",
       "      <td>6.43</td>\n",
       "    </tr>\n",
       "    <tr>\n",
       "      <th>1</th>\n",
       "      <td>ALKIM</td>\n",
       "      <td>14.95</td>\n",
       "      <td>2.11</td>\n",
       "      <td>23.63</td>\n",
       "      <td>17.41</td>\n",
       "    </tr>\n",
       "    <tr>\n",
       "      <th>2</th>\n",
       "      <td>AYGAZ</td>\n",
       "      <td>9.64</td>\n",
       "      <td>1.38</td>\n",
       "      <td>15.18</td>\n",
       "      <td>6.16</td>\n",
       "    </tr>\n",
       "    <tr>\n",
       "      <th>3</th>\n",
       "      <td>BAGFS</td>\n",
       "      <td>-3.26</td>\n",
       "      <td>-0.83</td>\n",
       "      <td>-7.75</td>\n",
       "      <td>-7.53</td>\n",
       "    </tr>\n",
       "    <tr>\n",
       "      <th>4</th>\n",
       "      <td>BRISA</td>\n",
       "      <td>2.82</td>\n",
       "      <td>0.26</td>\n",
       "      <td>14.05</td>\n",
       "      <td>4.53</td>\n",
       "    </tr>\n",
       "    <tr>\n",
       "      <th>5</th>\n",
       "      <td>DEVA</td>\n",
       "      <td>5.92</td>\n",
       "      <td>0.30</td>\n",
       "      <td>11.76</td>\n",
       "      <td>8.76</td>\n",
       "    </tr>\n",
       "    <tr>\n",
       "      <th>6</th>\n",
       "      <td>GOODY</td>\n",
       "      <td>5.68</td>\n",
       "      <td>0.17</td>\n",
       "      <td>10.09</td>\n",
       "      <td>3.40</td>\n",
       "    </tr>\n",
       "    <tr>\n",
       "      <th>7</th>\n",
       "      <td>GUBRF</td>\n",
       "      <td>-1.29</td>\n",
       "      <td>-0.13</td>\n",
       "      <td>-4.64</td>\n",
       "      <td>-1.55</td>\n",
       "    </tr>\n",
       "    <tr>\n",
       "      <th>8</th>\n",
       "      <td>PETKM</td>\n",
       "      <td>11.67</td>\n",
       "      <td>0.48</td>\n",
       "      <td>24.37</td>\n",
       "      <td>16.14</td>\n",
       "    </tr>\n",
       "    <tr>\n",
       "      <th>9</th>\n",
       "      <td>SASA</td>\n",
       "      <td>13.27</td>\n",
       "      <td>0.37</td>\n",
       "      <td>25.95</td>\n",
       "      <td>11.58</td>\n",
       "    </tr>\n",
       "    <tr>\n",
       "      <th>10</th>\n",
       "      <td>SODA</td>\n",
       "      <td>17.38</td>\n",
       "      <td>0.76</td>\n",
       "      <td>22.18</td>\n",
       "      <td>29.08</td>\n",
       "    </tr>\n",
       "    <tr>\n",
       "      <th>11</th>\n",
       "      <td>TUPRS</td>\n",
       "      <td>5.80</td>\n",
       "      <td>7.23</td>\n",
       "      <td>22.41</td>\n",
       "      <td>5.20</td>\n",
       "    </tr>\n",
       "  </tbody>\n",
       "</table>\n",
       "</div>"
      ],
      "text/plain": [
       "   Companies    ROA  Earnings per Share    ROE  Net Profit Margin\n",
       "0       AKSA   4.77                0.68  10.06               6.43\n",
       "1      ALKIM  14.95                2.11  23.63              17.41\n",
       "2      AYGAZ   9.64                1.38  15.18               6.16\n",
       "3      BAGFS  -3.26               -0.83  -7.75              -7.53\n",
       "4      BRISA   2.82                0.26  14.05               4.53\n",
       "5       DEVA   5.92                0.30  11.76               8.76\n",
       "6      GOODY   5.68                0.17  10.09               3.40\n",
       "7      GUBRF  -1.29               -0.13  -4.64              -1.55\n",
       "8      PETKM  11.67                0.48  24.37              16.14\n",
       "9       SASA  13.27                0.37  25.95              11.58\n",
       "10      SODA  17.38                0.76  22.18              29.08\n",
       "11     TUPRS   5.80                7.23  22.41               5.20"
      ]
     },
     "execution_count": 3,
     "metadata": {},
     "output_type": "execute_result"
    }
   ],
   "source": [
    "df"
   ]
  },
  {
   "cell_type": "code",
   "execution_count": 4,
   "metadata": {},
   "outputs": [
    {
     "data": {
      "image/png": "[encoded data removed]",
      "text/plain": [
       "<Figure size 432x288 with 2 Axes>"
      ]
     },
     "metadata": {
      "needs_background": "light"
     },
     "output_type": "display_data"
    }
   ],
   "source": [
    "sns.heatmap(df.corr(), annot = True);"
   ]
  },
  {
   "cell_type": "code",
   "execution_count": 6,
   "metadata": {},
   "outputs": [],
   "source": [
    "# Splitting into Numerical and Categorical variables\n",
    "df1=df._get_numeric_data()\n",
    "df2=df.drop(df._get_numeric_data(), axis=1)"
   ]
  },
  {
   "cell_type": "code",
   "execution_count": 7,
   "metadata": {},
   "outputs": [
    {
     "data": {
      "text/html": [
       "<div>\n",
       "<style scoped>\n",
       "    .dataframe tbody tr th:only-of-type {\n",
       "        vertical-align: middle;\n",
       "    }\n",
       "\n",
       "    .dataframe tbody tr th {\n",
       "        vertical-align: top;\n",
       "    }\n",
       "\n",
       "    .dataframe thead th {\n",
       "        text-align: right;\n",
       "    }\n",
       "</style>\n",
       "<table border=\"1\" class=\"dataframe\">\n",
       "  <thead>\n",
       "    <tr style=\"text-align: right;\">\n",
       "      <th></th>\n",
       "      <th>ROA</th>\n",
       "      <th>Earnings per Share</th>\n",
       "      <th>ROE</th>\n",
       "      <th>Net Profit Margin</th>\n",
       "    </tr>\n",
       "  </thead>\n",
       "  <tbody>\n",
       "    <tr>\n",
       "      <th>0</th>\n",
       "      <td>4.77</td>\n",
       "      <td>0.68</td>\n",
       "      <td>10.06</td>\n",
       "      <td>6.43</td>\n",
       "    </tr>\n",
       "    <tr>\n",
       "      <th>1</th>\n",
       "      <td>14.95</td>\n",
       "      <td>2.11</td>\n",
       "      <td>23.63</td>\n",
       "      <td>17.41</td>\n",
       "    </tr>\n",
       "    <tr>\n",
       "      <th>2</th>\n",
       "      <td>9.64</td>\n",
       "      <td>1.38</td>\n",
       "      <td>15.18</td>\n",
       "      <td>6.16</td>\n",
       "    </tr>\n",
       "    <tr>\n",
       "      <th>3</th>\n",
       "      <td>-3.26</td>\n",
       "      <td>-0.83</td>\n",
       "      <td>-7.75</td>\n",
       "      <td>-7.53</td>\n",
       "    </tr>\n",
       "    <tr>\n",
       "      <th>4</th>\n",
       "      <td>2.82</td>\n",
       "      <td>0.26</td>\n",
       "      <td>14.05</td>\n",
       "      <td>4.53</td>\n",
       "    </tr>\n",
       "    <tr>\n",
       "      <th>5</th>\n",
       "      <td>5.92</td>\n",
       "      <td>0.30</td>\n",
       "      <td>11.76</td>\n",
       "      <td>8.76</td>\n",
       "    </tr>\n",
       "    <tr>\n",
       "      <th>6</th>\n",
       "      <td>5.68</td>\n",
       "      <td>0.17</td>\n",
       "      <td>10.09</td>\n",
       "      <td>3.40</td>\n",
       "    </tr>\n",
       "    <tr>\n",
       "      <th>7</th>\n",
       "      <td>-1.29</td>\n",
       "      <td>-0.13</td>\n",
       "      <td>-4.64</td>\n",
       "      <td>-1.55</td>\n",
       "    </tr>\n",
       "    <tr>\n",
       "      <th>8</th>\n",
       "      <td>11.67</td>\n",
       "      <td>0.48</td>\n",
       "      <td>24.37</td>\n",
       "      <td>16.14</td>\n",
       "    </tr>\n",
       "    <tr>\n",
       "      <th>9</th>\n",
       "      <td>13.27</td>\n",
       "      <td>0.37</td>\n",
       "      <td>25.95</td>\n",
       "      <td>11.58</td>\n",
       "    </tr>\n",
       "    <tr>\n",
       "      <th>10</th>\n",
       "      <td>17.38</td>\n",
       "      <td>0.76</td>\n",
       "      <td>22.18</td>\n",
       "      <td>29.08</td>\n",
       "    </tr>\n",
       "    <tr>\n",
       "      <th>11</th>\n",
       "      <td>5.80</td>\n",
       "      <td>7.23</td>\n",
       "      <td>22.41</td>\n",
       "      <td>5.20</td>\n",
       "    </tr>\n",
       "  </tbody>\n",
       "</table>\n",
       "</div>"
      ],
      "text/plain": [
       "      ROA  Earnings per Share    ROE  Net Profit Margin\n",
       "0    4.77                0.68  10.06               6.43\n",
       "1   14.95                2.11  23.63              17.41\n",
       "2    9.64                1.38  15.18               6.16\n",
       "3   -3.26               -0.83  -7.75              -7.53\n",
       "4    2.82                0.26  14.05               4.53\n",
       "5    5.92                0.30  11.76               8.76\n",
       "6    5.68                0.17  10.09               3.40\n",
       "7   -1.29               -0.13  -4.64              -1.55\n",
       "8   11.67                0.48  24.37              16.14\n",
       "9   13.27                0.37  25.95              11.58\n",
       "10  17.38                0.76  22.18              29.08\n",
       "11   5.80                7.23  22.41               5.20"
      ]
     },
     "execution_count": 7,
     "metadata": {},
     "output_type": "execute_result"
    }
   ],
   "source": [
    "df1"
   ]
  },
  {
   "cell_type": "code",
   "execution_count": 8,
   "metadata": {},
   "outputs": [
    {
     "data": {
      "text/html": [
       "<div>\n",
       "<style scoped>\n",
       "    .dataframe tbody tr th:only-of-type {\n",
       "        vertical-align: middle;\n",
       "    }\n",
       "\n",
       "    .dataframe tbody tr th {\n",
       "        vertical-align: top;\n",
       "    }\n",
       "\n",
       "    .dataframe thead th {\n",
       "        text-align: right;\n",
       "    }\n",
       "</style>\n",
       "<table border=\"1\" class=\"dataframe\">\n",
       "  <thead>\n",
       "    <tr style=\"text-align: right;\">\n",
       "      <th></th>\n",
       "      <th>Companies</th>\n",
       "    </tr>\n",
       "  </thead>\n",
       "  <tbody>\n",
       "    <tr>\n",
       "      <th>0</th>\n",
       "      <td>AKSA</td>\n",
       "    </tr>\n",
       "    <tr>\n",
       "      <th>1</th>\n",
       "      <td>ALKIM</td>\n",
       "    </tr>\n",
       "    <tr>\n",
       "      <th>2</th>\n",
       "      <td>AYGAZ</td>\n",
       "    </tr>\n",
       "    <tr>\n",
       "      <th>3</th>\n",
       "      <td>BAGFS</td>\n",
       "    </tr>\n",
       "    <tr>\n",
       "      <th>4</th>\n",
       "      <td>BRISA</td>\n",
       "    </tr>\n",
       "    <tr>\n",
       "      <th>5</th>\n",
       "      <td>DEVA</td>\n",
       "    </tr>\n",
       "    <tr>\n",
       "      <th>6</th>\n",
       "      <td>GOODY</td>\n",
       "    </tr>\n",
       "    <tr>\n",
       "      <th>7</th>\n",
       "      <td>GUBRF</td>\n",
       "    </tr>\n",
       "    <tr>\n",
       "      <th>8</th>\n",
       "      <td>PETKM</td>\n",
       "    </tr>\n",
       "    <tr>\n",
       "      <th>9</th>\n",
       "      <td>SASA</td>\n",
       "    </tr>\n",
       "    <tr>\n",
       "      <th>10</th>\n",
       "      <td>SODA</td>\n",
       "    </tr>\n",
       "    <tr>\n",
       "      <th>11</th>\n",
       "      <td>TUPRS</td>\n",
       "    </tr>\n",
       "  </tbody>\n",
       "</table>\n",
       "</div>"
      ],
      "text/plain": [
       "   Companies\n",
       "0       AKSA\n",
       "1      ALKIM\n",
       "2      AYGAZ\n",
       "3      BAGFS\n",
       "4      BRISA\n",
       "5       DEVA\n",
       "6      GOODY\n",
       "7      GUBRF\n",
       "8      PETKM\n",
       "9       SASA\n",
       "10      SODA\n",
       "11     TUPRS"
      ]
     },
     "execution_count": 8,
     "metadata": {},
     "output_type": "execute_result"
    }
   ],
   "source": [
    "df2"
   ]
  },
  {
   "cell_type": "code",
   "execution_count": 9,
   "metadata": {},
   "outputs": [
    {
     "data": {
      "text/plain": [
       "array([[ 0.14550231,  0.08711579,  0.166047  ,  0.15082088],\n",
       "       [ 0.45602925,  0.27031518,  0.3900289 ,  0.40836571],\n",
       "       [ 0.29405498,  0.17679381,  0.25055601,  0.14448781],\n",
       "       [-0.09944183, -0.10633251, -0.12791891, -0.17662227],\n",
       "       [ 0.08602023,  0.03330898,  0.23190461,  0.10625483],\n",
       "       [ 0.18058148,  0.03843344,  0.19410664,  0.20547292],\n",
       "       [ 0.17326061,  0.02177895,  0.16654217,  0.07974977],\n",
       "       [-0.03934968, -0.01665449, -0.07658629, -0.03635651],\n",
       "       [ 0.35597735,  0.0614935 ,  0.40224309,  0.37857683],\n",
       "       [ 0.40478315,  0.04740124,  0.42832204,  0.27161832],\n",
       "       [ 0.53015307,  0.09736471,  0.36609568,  0.68209505],\n",
       "       [ 0.17692105,  0.92624584,  0.36989198,  0.12197023]])"
      ]
     },
     "execution_count": 9,
     "metadata": {},
     "output_type": "execute_result"
    }
   ],
   "source": [
    "# Normalization\n",
    "df_n = np.array(df1/np.sqrt((df1**2).sum()))\n",
    "df_n"
   ]
  },
  {
   "cell_type": "code",
   "execution_count": 10,
   "metadata": {},
   "outputs": [
    {
     "data": {
      "text/plain": [
       "array([[ 0.03637558,  0.02177895,  0.04151175,  0.03770522],\n",
       "       [ 0.11400731,  0.06757879,  0.09750722,  0.10209143],\n",
       "       [ 0.07351375,  0.04419845,  0.062639  ,  0.03612195],\n",
       "       [-0.02486046, -0.02658313, -0.03197973, -0.04415557],\n",
       "       [ 0.02150506,  0.00832724,  0.05797615,  0.02656371],\n",
       "       [ 0.04514537,  0.00960836,  0.04852666,  0.05136823],\n",
       "       [ 0.04331515,  0.00544474,  0.04163554,  0.01993744],\n",
       "       [-0.00983742, -0.00416362, -0.01914657, -0.00908913],\n",
       "       [ 0.08899434,  0.01537337,  0.10056077,  0.09464421],\n",
       "       [ 0.10119579,  0.01185031,  0.10708051,  0.06790458],\n",
       "       [ 0.13253827,  0.02434118,  0.09152392,  0.17052376],\n",
       "       [ 0.04423026,  0.23156146,  0.092473  ,  0.03049256]])"
      ]
     },
     "execution_count": 10,
     "metadata": {},
     "output_type": "execute_result"
    }
   ],
   "source": [
    "# Multiply by the coefficient\n",
    "df_k=df_n*(1/len(df1.columns))\n",
    "df_k"
   ]
  },
  {
   "cell_type": "code",
   "execution_count": 11,
   "metadata": {},
   "outputs": [
    {
     "name": "stdout",
     "output_type": "stream",
     "text": [
      "[0.13253827 0.23156146 0.10708051 0.17052376]\n",
      "[-0.02486046 -0.02658313 -0.03197973 -0.04415557]\n"
     ]
    }
   ],
   "source": [
    "# Ideal and Negative Ideal weight\n",
    "ideal=df_k.max(axis=0)\n",
    "neg_ideal=df_k.min(axis=0)\n",
    "print(ideal)\n",
    "print(neg_ideal)"
   ]
  },
  {
   "cell_type": "code",
   "execution_count": 13,
   "metadata": {},
   "outputs": [
    {
     "data": {
      "text/plain": [
       "array([0.13253827, 0.23156146, 0.10708051, 0.17052376])"
      ]
     },
     "execution_count": 13,
     "metadata": {},
     "output_type": "execute_result"
    }
   ],
   "source": [
    "ideal"
   ]
  },
  {
   "cell_type": "code",
   "execution_count": 14,
   "metadata": {},
   "outputs": [],
   "source": [
    "# Distance to Ideal and Negative Ideal Values\n",
    "Ideal_distance = []\n",
    "Neg_distance = []\n",
    "for i in range(len(df_k)):\n",
    "    Ideal_distance.append(np.sqrt(((df_k-ideal)**2)[i].sum()))\n",
    "    Neg_distance.append(np.sqrt(((df_k-neg_ideal)**2)[i].sum()))"
   ]
  },
  {
   "cell_type": "code",
   "execution_count": 15,
   "metadata": {},
   "outputs": [],
   "source": [
    "# Finding scores\n",
    "score = pd.DataFrame({'Ideal_distance':np.array(Ideal_distance),'Neg_distance':np.array(Neg_distance)})\n",
    "score['topsis_scores']=score['Neg_distance']/(score['Neg_distance']+score['Ideal_distance'])"
   ]
  },
  {
   "cell_type": "code",
   "execution_count": 16,
   "metadata": {},
   "outputs": [
    {
     "name": "stdout",
     "output_type": "stream",
     "text": [
      "   Companies  Ideal_distance  Neg_distance  topsis_scores\n",
      "0       AKSA        0.274219      0.134874       0.329690\n",
      "1      ALKIM        0.178909      0.257499       0.590042\n",
      "2      AYGAZ        0.242132      0.173449       0.417366\n",
      "3      BAGFS        0.396028      0.000000       0.000000\n",
      "4      BRISA        0.292058      0.128303       0.305222\n",
      "5       DEVA        0.272997      0.147705       0.351092\n",
      "6      GOODY        0.293341      0.123292       0.295924\n",
      "7      GUBRF        0.352181      0.046072       0.115686\n",
      "8      PETKM        0.233310      0.227059       0.493210\n",
      "9       SASA        0.244512      0.221952       0.475818\n",
      "10      SODA        0.207803      0.297839       0.589031\n",
      "11     TUPRS        0.166194      0.304094       0.646612\n"
     ]
    }
   ],
   "source": [
    "score = pd.concat([df2, score], axis=1)\n",
    "print(score)"
   ]
  },
  {
   "cell_type": "code",
   "execution_count": 17,
   "metadata": {},
   "outputs": [
    {
     "data": {
      "image/png": "[encoded data removed]",
      "text/plain": [
       "<Figure size 432x288 with 1 Axes>"
      ]
     },
     "metadata": {
      "needs_background": "light"
     },
     "output_type": "display_data"
    }
   ],
   "source": [
    "score.topsis_scores.sort_values( ascending=True).plot.barh();"
   ]
  },
  {
   "cell_type": "markdown",
   "metadata": {},
   "source": [
    "## With Function"
   ]
  },
  {
   "cell_type": "code",
   "execution_count": 18,
   "metadata": {},
   "outputs": [],
   "source": [
    "def data(dataset):\n",
    "    # Normalization\n",
    "    dataset1=dataset._get_numeric_data()\n",
    "    dataset2=dataset.drop(dataset._get_numeric_data(), axis=1)\n",
    "    df_n = np.array(dataset1/np.sqrt((dataset1**2).sum()))\n",
    "    # Multiply by the coefficient\n",
    "    df_k=df_n*(1/len(dataset1.columns))\n",
    "    # Ideal and Negative Ideal weight\n",
    "    ideal=df_k.max(axis=0)\n",
    "    neg_ideal=df_k.min(axis=0)\n",
    "    # Distance to Ideal and Negative Ideal Values\n",
    "    Ideal_distance = []\n",
    "    Neg_distance = []\n",
    "    for i in range(len(df_k)):\n",
    "        Ideal_distance.append(np.sqrt(((df_k-ideal)**2)[i].sum()))\n",
    "        Neg_distance.append(np.sqrt(((df_k-neg_ideal)**2)[i].sum()))\n",
    "    # Finding scores\n",
    "    score = pd.DataFrame({'Ideal_distance':np.array(Ideal_distance),'Neg_distance':np.array(Neg_distance)})\n",
    "    score['topsis_scores']=score['Neg_distance']/(score['Neg_distance']+score['Ideal_distance'])\n",
    "    score = pd.concat([dataset2, score], axis=1)\n",
    "    print(score)\n",
    "    score.topsis_scores.sort_values( ascending=True).plot.barh();"
   ]
  },
  {
   "cell_type": "code",
   "execution_count": 19,
   "metadata": {},
   "outputs": [
    {
     "name": "stdout",
     "output_type": "stream",
     "text": [
      "   Companies  Ideal_distance  Neg_distance  topsis_scores\n",
      "0       AKSA        0.274219      0.134874       0.329690\n",
      "1      ALKIM        0.178909      0.257499       0.590042\n",
      "2      AYGAZ        0.242132      0.173449       0.417366\n",
      "3      BAGFS        0.396028      0.000000       0.000000\n",
      "4      BRISA        0.292058      0.128303       0.305222\n",
      "5       DEVA        0.272997      0.147705       0.351092\n",
      "6      GOODY        0.293341      0.123292       0.295924\n",
      "7      GUBRF        0.352181      0.046072       0.115686\n",
      "8      PETKM        0.233310      0.227059       0.493210\n",
      "9       SASA        0.244512      0.221952       0.475818\n",
      "10      SODA        0.207803      0.297839       0.589031\n",
      "11     TUPRS        0.166194      0.304094       0.646612\n"
     ]
    },
    {
     "data": {
      "image/png": "[encoded data removed]",
      "text/plain": [
       "<Figure size 432x288 with 1 Axes>"
      ]
     },
     "metadata": {
      "needs_background": "light"
     },
     "output_type": "display_data"
    }
   ],
   "source": [
    "data(df)"
   ]
  },
  {
   "cell_type": "code",
   "execution_count": 21,
   "metadata": {},
   "outputs": [],
   "source": [
    "# The TUPRS has the best topsis score."
   ]
  },
  {
   "cell_type": "code",
   "execution_count": null,
   "metadata": {},
   "outputs": [],
   "source": []
  }
 ],
 "metadata": {
  "kernelspec": {
   "display_name": "Python 3",
   "language": "python",
   "name": "python3"
  },
  "language_info": {
   "codemirror_mode": {
    "name": "ipython",
    "version": 3
   },
   "file_extension": ".py",
   "mimetype": "text/x-python",
   "name": "python",
   "nbconvert_exporter": "python",
   "pygments_lexer": "ipython3",
   "version": "3.8.5"
  }
 },
 "nbformat": 4,
 "nbformat_minor": 4
}
